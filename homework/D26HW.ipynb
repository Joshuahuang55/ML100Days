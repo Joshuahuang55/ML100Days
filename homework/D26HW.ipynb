{
 "cells": [
  {
   "cell_type": "markdown",
   "metadata": {},
   "source": [
    "## 作業:\n",
    "今天學到不同統計量之間特性，  \n",
    "試著分析男生女生身高資料，  \n",
    "試著回答下面的問題:  \n",
    "Q1:試著用今天所教的內容，如何描述這兩組資料的樣態?    \n",
    "Q2: 請問男生和女生在平均身高上誰比較高?   \n",
    "Q3:請問第二題的答案和日常生活中觀察的一致嗎? 如果不一致，你覺得原因可能為何?    \n",
    "上述問題透過  python 語法進行運算，\n",
    "並將上述答案填寫在 (google 表單)[https://forms.gle/EDdU2Zfq8zLvDea18]\n",
    "![](作業資料圖檔.PNG)"
   ]
  },
  {
   "cell_type": "code",
   "execution_count": 13,
   "metadata": {
    "colab": {
     "base_uri": "https://localhost:8080/",
     "height": 34
    },
    "colab_type": "code",
    "executionInfo": {
     "elapsed": 1558,
     "status": "ok",
     "timestamp": 1578021044012,
     "user": {
      "displayName": "Mora chen",
      "photoUrl": "https://lh3.googleusercontent.com/a-/AAuE7mB40f7sDArbZ5_DYq02nNcnLD0Ryaf7AhsASSQeLQ=s64",
      "userId": "03171203089166907199"
     },
     "user_tz": -480
    },
    "id": "yz28_IgkYdBW",
    "outputId": "a12f486c-18b3-4fb5-d06c-f162aebd9444"
   },
   "outputs": [],
   "source": [
    "# library\n",
    "from scipy import stats\n",
    "import numpy as np\n",
    "import statistics"
   ]
  },
  {
   "cell_type": "code",
   "execution_count": 5,
   "metadata": {},
   "outputs": [],
   "source": [
    "## 輸入資料\n",
    "boy = [164,175,183,173,176,159,165,165,169,151,156,163,169,144,170,177,165,160,164,171]\n",
    "girl = [169,170,162,154,183,173,169,167,170,185,162,175,168,151,181,170,182,156,159,160]"
   ]
  },
  {
   "cell_type": "code",
   "execution_count": 25,
   "metadata": {},
   "outputs": [
    {
     "name": "stdout",
     "output_type": "stream",
     "text": [
      "男生的 平均: 165.95\n",
      "男生的 中位數: 165.0\n",
      "男生的 眾數: 165\n",
      "男生的 全距: 39\n",
      "男生的 變異數: 84.89210526315789\n",
      "男生的 標準差: 8.980395314238677\n",
      "男生的 90 quantile: 176.1\n",
      "男生的 50 quantile: 165.0\n",
      "男生的 20 quantile: 159.8\n",
      "男生的 峰度: -0.4713212731737694\n",
      "男生的 偏度: 0.19395882957876243\n",
      "\n",
      "\n",
      "女生的 平均: 168.3\n",
      "女生的 中位數: 169.0\n",
      "女生的 眾數: 170\n",
      "女生的 全距: 34\n",
      "女生的 變異數: 95.37894736842105\n",
      "女生的 標準差: 9.51892851112981\n",
      "女生的 90 quantile: 182.1\n",
      "女生的 50 quantile: 169.0\n",
      "女生的 20 quantile: 159.8\n",
      "女生的 峰度: 0.059853211293650746\n",
      "女生的 偏度: -0.8203607083948947\n"
     ]
    }
   ],
   "source": [
    "#Q1:試著用今天所教的內容，如何描述這兩組資料的樣態?\n",
    "#暗示:  分別計算男生和女生的統計量\n",
    "def sta(array,word):\n",
    "    print(word,\"平均:\",np.mean(array))\n",
    "    print(word,\"中位數:\",np.median(array))\n",
    "    print(word,\"眾數:\",statistics.mode(array))\n",
    "    print(word,\"全距:\",max(array) - min(array))\n",
    "    print(word,\"變異數:\",statistics.variance(array))\n",
    "    print(word,\"標準差:\",np.std(array))\n",
    "    print(word,\"90 quantile:\",np.percentile(array, 90))\n",
    "    print(word,\"50 quantile:\",np.percentile(array, 50))\n",
    "    print(word,\"20 quantile:\",np.percentile(array, 20))\n",
    "    print(word,\"峰度:\",stats.skew(array))\n",
    "    print(word,\"偏度:\",stats.kurtosis(array))\n",
    "\n",
    "sta(boy, \"男生的\")\n",
    "print(\"\\n\")\n",
    "sta(girl, \"女生的\")"
   ]
  },
  {
   "cell_type": "code",
   "execution_count": 7,
   "metadata": {},
   "outputs": [
    {
     "name": "stdout",
     "output_type": "stream",
     "text": [
      "女生身高較高\n"
     ]
    }
   ],
   "source": [
    "#Q2: 請問男生和女生在平均身高上誰比較高? \n",
    "if np.mean(boy) > np.mean(girl):\n",
    "    print(\"男生平均身高較高\")\n",
    "else:\n",
    "    print(\"女生身高較高\")"
   ]
  },
  {
   "cell_type": "code",
   "execution_count": 9,
   "metadata": {},
   "outputs": [
    {
     "name": "stdout",
     "output_type": "stream",
     "text": [
      "不一致\n",
      "因為抽出的樣本太少，或是抽出的樣本沒有具備代表性\n"
     ]
    }
   ],
   "source": [
    "#Q3:請問第二題的答案和日常生活中觀察的一致嗎? 如果不一致，你覺得原因可能為何? \n",
    "print(\"不一致\")\n",
    "print(\"因為抽出的樣本太少，或是抽出的樣本沒有具備代表性\")"
   ]
  }
 ],
 "metadata": {
  "colab": {
   "name": "Day33.YOLO 細節理解 - 網路輸出的後處理_HW.ipynb",
   "provenance": []
  },
  "kernelspec": {
   "display_name": "Python 3",
   "language": "python",
   "name": "python3"
  },
  "language_info": {
   "codemirror_mode": {
    "name": "ipython",
    "version": 3
   },
   "file_extension": ".py",
   "mimetype": "text/x-python",
   "name": "python",
   "nbconvert_exporter": "python",
   "pygments_lexer": "ipython3",
   "version": "3.8.5"
  }
 },
 "nbformat": 4,
 "nbformat_minor": 1
}
